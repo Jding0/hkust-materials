{
 "cells": [
  {
   "cell_type": "markdown",
   "metadata": {},
   "source": [
    "# Image Classifier using Convolutional Neural Networks"
   ]
  },
  {
   "cell_type": "code",
   "execution_count": null,
   "metadata": {
    "collapsed": true
   },
   "outputs": [],
   "source": [
    "import torch\n",
    "import torch.nn as nn\n",
    "import torchvision.datasets as dsets\n",
    "import torchvision.transforms as transforms\n",
    "from torch.autograd import Variable\n",
    "import torch.nn.functional as F\n",
    "import matplotlib.pyplot as plt\n",
    "import numpy as np"
   ]
  },
  {
   "cell_type": "code",
   "execution_count": null,
   "metadata": {
    "collapsed": true
   },
   "outputs": [],
   "source": [
    "# Hyper Parameters\n",
    "num_epochs = 400\n",
    "batch_size = 64\n",
    "learning_rate = 0.001"
   ]
  },
  {
   "cell_type": "code",
   "execution_count": null,
   "metadata": {
    "collapsed": true
   },
   "outputs": [],
   "source": [
    "#ImageNet Assumptions\n",
    "normalize = transforms.Normalize(\n",
    "\tmean=[0.485, 0.456, 0.406],\n",
    "\tstd=[0.229, 0.224, 0.225]\n",
    ")\n",
    "\n",
    "#Normalize -> Tensor -> Data augmentations (Random cropping and flipping)\n",
    "preprocess = transforms.Compose([\n",
    "\ttransforms.CenterCrop(100),\n",
    "\ttransforms.RandomHorizontalFlip(),\n",
    "\ttransforms.ToTensor(),\n",
    "\tnormalize\n",
    "])"
   ]
  },
  {
   "cell_type": "code",
   "execution_count": null,
   "metadata": {
    "collapsed": true
   },
   "outputs": [],
   "source": [
    "# Data Set\n",
    "train_dataset = dsets.ImageFolder(root=\"train\", transform=preprocess)\n",
    "\n",
    "# Data Loader\n",
    "train_loader = torch.utils.data.DataLoader(dataset=train_dataset, batch_size=batch_size, shuffle=True)\n",
    "\n",
    "# Data Set\n",
    "test_dataset = dsets.ImageFolder(root=\"test\", transform=transforms.ToTensor())\n",
    "\n",
    "# Data Loader\n",
    "test_loader = torch.utils.data.DataLoader(dataset=test_dataset, batch_size=batch_size, shuffle=False)"
   ]
  },
  {
   "cell_type": "code",
   "execution_count": null,
   "metadata": {
    "collapsed": true
   },
   "outputs": [],
   "source": [
    "# CNN Model (2 conv layer)\n",
    "class CNN(nn.Module):\n",
    "\tdef __init__(self):\n",
    "\t\tsuper(CNN, self).__init__()\n",
    "\t\tself.layer1 = nn.Sequential(\n",
    "\t\t\tnn.Conv2d(3, 16, kernel_size=3, padding=1),\n",
    "\t\t\tnn.BatchNorm2d(16),\n",
    "\t\t\tnn.ReLU(),\n",
    "\t\t\tnn.MaxPool2d(2))\n",
    "\t\tself.layer2 = nn.Sequential(\n",
    "\t\t\tnn.Conv2d(16, 32, kernel_size=5, padding=2),\n",
    "\t\t\tnn.BatchNorm2d(32),\n",
    "\t\t\tnn.ReLU(),\n",
    "\t\t\tnn.MaxPool2d(2))\n",
    "\t\tself.fc1 = nn.Sequential(\n",
    "\t\t\tnn.Linear(20000, 500),\n",
    "\t\t\tnn.Dropout(0.75),\n",
    "\t\t\tnn.ReLU())\n",
    "\t\tself.fc2 = nn.Sequential(\n",
    "\t\t\tnn.Linear(500, 50),\n",
    "\t\t\tnn.Dropout(0.75),\n",
    "\t\t\tnn.ReLU())\n",
    "\t\tself.fc3 = nn.Sequential(\n",
    "\t\t\tnn.Linear(50, 5),\n",
    "\t\t\tnn.Dropout(0.75),\n",
    "\t\t\tnn.LogSoftmax())\n",
    "\n",
    "\tdef forward(self, x):\n",
    "\t\tout = self.layer1(x)\n",
    "\t\tout = self.layer2(out)\n",
    "\t\tout = out.view(out.size(0), -1) #Flatten out the conv layer to fc layer\n",
    "\t\tout = self.fc1(out)\n",
    "\t\tout = self.fc2(out)\n",
    "\t\tout = self.fc3(out)\n",
    "\t\treturn out"
   ]
  },
  {
   "cell_type": "code",
   "execution_count": null,
   "metadata": {
    "collapsed": true
   },
   "outputs": [],
   "source": [
    "cnn = CNN()\n",
    "#cnn.load_state_dict(torch.load('cnn.pkl'))\n",
    "\n",
    "# Loss and Optimizer\n",
    "criterion = nn.CrossEntropyLoss()\n",
    "optimizer = torch.optim.Adam(cnn.parameters(), lr=learning_rate) #Use Adam to optimize\n",
    "sum_loss = []"
   ]
  },
  {
   "cell_type": "code",
   "execution_count": null,
   "metadata": {
    "collapsed": true
   },
   "outputs": [],
   "source": [
    "# Train the Model\n",
    "for epoch in range(num_epochs):\n",
    "\tl = 0\n",
    "\tfor i, (images, labels) in enumerate(train_loader):\n",
    "\t\timages = Variable(images)\n",
    "\t\tlabels = Variable(labels)\n",
    "\n",
    "\t\t# Forward + Backward + Optimize\n",
    "\t\toptimizer.zero_grad()\n",
    "\t\toutputs = cnn(images)\n",
    "\t\tloss = criterion(outputs, labels)\n",
    "\t\tloss.backward()\n",
    "\t\toptimizer.step()\n",
    "\t\tl += loss.data[0]\n",
    "\t\tif (i+1) % 1 == 0:\n",
    "\t\t\tprint ('Epoch [%d/%d], Iter [%d/%d] Loss: %.4f'\n",
    "\t\t\t\t   %(epoch+1, num_epochs, i+1, len(train_dataset)//batch_size, loss.data[0]))\n",
    "\tsum_loss.append(l)"
   ]
  },
  {
   "cell_type": "code",
   "execution_count": null,
   "metadata": {
    "collapsed": true
   },
   "outputs": [],
   "source": [
    "cnn.eval()  # Change model to 'eval' mode (BN uses moving mean/var).\n",
    "correct = 0\n",
    "total = 0\n",
    "for images, labels in train_loader:\n",
    "\timages = Variable(images)\n",
    "\toutputs = cnn(images)\n",
    "\t_, predicted = torch.max(outputs.data, 1)\n",
    "\ttotal += labels.size(0)\n",
    "\tcorrect += (predicted == labels).sum()\n",
    "\n",
    "print('Training Accuracy of the model on the test images: %d %%' % (100 * correct / total))"
   ]
  }
 ],
 "metadata": {
  "kernelspec": {
   "display_name": "Python 3",
   "language": "python",
   "name": "python3"
  },
  "language_info": {
   "codemirror_mode": {
    "name": "ipython",
    "version": 3
   },
   "file_extension": ".py",
   "mimetype": "text/x-python",
   "name": "python",
   "nbconvert_exporter": "python",
   "pygments_lexer": "ipython3",
   "version": "3.4.3"
  }
 },
 "nbformat": 4,
 "nbformat_minor": 2
}
